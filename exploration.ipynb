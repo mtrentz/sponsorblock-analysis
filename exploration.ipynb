{
 "cells": [
  {
   "cell_type": "code",
   "execution_count": 1,
   "metadata": {},
   "outputs": [],
   "source": [
    "import duckdb\n",
    "\n",
    "# Connect to an in-memory DuckDB instance\n",
    "con = duckdb.connect(database=':memory:')\n",
    "\n",
    "# Took me some trial and error comparing it to 'wc -l' to understand that this seems to be\n",
    "# the best way to reads these files\n",
    "sponsor_times = con.read_csv(\n",
    "    \"sb-mirror/sponsorTimes.csv\",\n",
    "    header=True,\n",
    "    columns={\n",
    "        \"videoID\": \"VARCHAR\",\n",
    "        \"startTime\": \"DOUBLE\",\n",
    "        \"endTime\": \"DOUBLE\",\n",
    "        \"votes\": \"INTEGER\",\n",
    "        \"locked\": \"INTEGER\",\n",
    "        \"incorrectVotes\": \"INTEGER\",\n",
    "        \"UUID\": \"VARCHAR\",\n",
    "        \"userID\": \"VARCHAR\",\n",
    "        \"timeSubmitted\": \"DOUBLE\",\n",
    "        \"views\": \"INTEGER\",\n",
    "        \"category\": \"VARCHAR\",\n",
    "        \"actionType\": \"VARCHAR\",\n",
    "        \"service\": \"VARCHAR\",\n",
    "        \"videoDuration\": \"DOUBLE\",\n",
    "        \"hidden\": \"INTEGER\",\n",
    "        \"reputation\": \"DOUBLE\",\n",
    "        \"shadowHidden\": \"INTEGER\",\n",
    "        \"hashedVideoID\": \"VARCHAR\",\n",
    "        \"userAgent\": \"VARCHAR\",\n",
    "        \"description\": \"VARCHAR\",\n",
    "    },\n",
    "    ignore_errors=True,\n",
    "    quotechar=\"\",\n",
    ")\n",
    "\n",
    "\n",
    "video_info = con.read_csv(\n",
    "    \"sb-mirror/videoInfo.csv\",\n",
    "    header=True,\n",
    "    columns={\n",
    "        \"videoID\": \"VARCHAR\",\n",
    "        \"channelID\": \"VARCHAR\",\n",
    "        \"title\": \"VARCHAR\",\n",
    "        \"published\": \"DOUBLE\",\n",
    "    },\n",
    "    ignore_errors=True,\n",
    "    quotechar=None,\n",
    ")\n",
    "\n",
    "# Ignore warnings\n",
    "import warnings\n",
    "warnings.filterwarnings('ignore')\n"
   ]
  },
  {
   "cell_type": "code",
   "execution_count": 2,
   "metadata": {},
   "outputs": [
    {
     "data": {
      "text/plain": [
       "┌────────────────┬─────────────┬─────────┬─────────┬─────────┬─────────┐\n",
       "│  column_name   │ column_type │  null   │   key   │ default │  extra  │\n",
       "│    varchar     │   varchar   │ varchar │ varchar │ varchar │ varchar │\n",
       "├────────────────┼─────────────┼─────────┼─────────┼─────────┼─────────┤\n",
       "│ videoID        │ VARCHAR     │ YES     │ NULL    │ NULL    │ NULL    │\n",
       "│ startTime      │ DOUBLE      │ YES     │ NULL    │ NULL    │ NULL    │\n",
       "│ endTime        │ DOUBLE      │ YES     │ NULL    │ NULL    │ NULL    │\n",
       "│ votes          │ INTEGER     │ YES     │ NULL    │ NULL    │ NULL    │\n",
       "│ locked         │ INTEGER     │ YES     │ NULL    │ NULL    │ NULL    │\n",
       "│ incorrectVotes │ INTEGER     │ YES     │ NULL    │ NULL    │ NULL    │\n",
       "│ UUID           │ VARCHAR     │ YES     │ NULL    │ NULL    │ NULL    │\n",
       "│ userID         │ VARCHAR     │ YES     │ NULL    │ NULL    │ NULL    │\n",
       "│ timeSubmitted  │ DOUBLE      │ YES     │ NULL    │ NULL    │ NULL    │\n",
       "│ views          │ INTEGER     │ YES     │ NULL    │ NULL    │ NULL    │\n",
       "│ category       │ VARCHAR     │ YES     │ NULL    │ NULL    │ NULL    │\n",
       "│ actionType     │ VARCHAR     │ YES     │ NULL    │ NULL    │ NULL    │\n",
       "│ service        │ VARCHAR     │ YES     │ NULL    │ NULL    │ NULL    │\n",
       "│ videoDuration  │ DOUBLE      │ YES     │ NULL    │ NULL    │ NULL    │\n",
       "│ hidden         │ INTEGER     │ YES     │ NULL    │ NULL    │ NULL    │\n",
       "│ reputation     │ DOUBLE      │ YES     │ NULL    │ NULL    │ NULL    │\n",
       "│ shadowHidden   │ INTEGER     │ YES     │ NULL    │ NULL    │ NULL    │\n",
       "│ hashedVideoID  │ VARCHAR     │ YES     │ NULL    │ NULL    │ NULL    │\n",
       "│ userAgent      │ VARCHAR     │ YES     │ NULL    │ NULL    │ NULL    │\n",
       "│ description    │ VARCHAR     │ YES     │ NULL    │ NULL    │ NULL    │\n",
       "├────────────────┴─────────────┴─────────┴─────────┴─────────┴─────────┤\n",
       "│ 20 rows                                                    6 columns │\n",
       "└──────────────────────────────────────────────────────────────────────┘"
      ]
     },
     "execution_count": 2,
     "metadata": {},
     "output_type": "execute_result"
    }
   ],
   "source": [
    "con.sql('DESCRIBE SELECT * FROM sponsor_times')"
   ]
  },
  {
   "cell_type": "code",
   "execution_count": 22,
   "metadata": {},
   "outputs": [
    {
     "data": {
      "text/plain": [
       "┌─────────────┬───────────┬───────────┬───────────────┬───────┬────────┬──────────┐\n",
       "│   videoID   │ startTime │  endTime  │ videoDuration │ votes │ locked │ category │\n",
       "│   varchar   │  double   │  double   │    double     │ int32 │ int32  │ varchar  │\n",
       "├─────────────┼───────────┼───────────┼───────────────┼───────┼────────┼──────────┤\n",
       "│ QRxo_fH8bMA │       0.0 │       2.7 │       526.941 │     1 │      0 │ sponsor  │\n",
       "│ 3esg23Dsmmk │       0.0 │       0.0 │       194.221 │    -2 │      0 │ sponsor  │\n",
       "│ qdTN4gvLygk │       0.0 │       5.0 │       292.861 │     0 │      0 │ sponsor  │\n",
       "│ CSGvpfA1sew │ 46.249058 │ 55.613075 │           0.0 │     4 │      0 │ sponsor  │\n",
       "│ DPuwedsAv2o │   1916.33 │  2151.799 │      7638.854 │     1 │      0 │ sponsor  │\n",
       "└─────────────┴───────────┴───────────┴───────────────┴───────┴────────┴──────────┘"
      ]
     },
     "execution_count": 22,
     "metadata": {},
     "output_type": "execute_result"
    }
   ],
   "source": [
    "con.sql(\"SELECT videoID, startTime, endTime, videoDuration, votes, locked, category FROM sponsor_times WHERE category IN ('sponsor', 'selfpromo') ORDER BY RANDOM() LIMIT 5\")"
   ]
  },
  {
   "cell_type": "code",
   "execution_count": 23,
   "metadata": {},
   "outputs": [
    {
     "data": {
      "text/plain": [
       "┌──────────────────┐\n",
       "│     category     │\n",
       "│     varchar      │\n",
       "├──────────────────┤\n",
       "│ outro            │\n",
       "│ interaction      │\n",
       "│ intro            │\n",
       "│ preview          │\n",
       "│ music_offtopic   │\n",
       "│ moreCategories   │\n",
       "│ sponsor          │\n",
       "│ filler           │\n",
       "│ selfpromo        │\n",
       "│ exclusive_access │\n",
       "│ chapter          │\n",
       "│ poi_highlight    │\n",
       "├──────────────────┤\n",
       "│     12 rows      │\n",
       "└──────────────────┘"
      ]
     },
     "execution_count": 23,
     "metadata": {},
     "output_type": "execute_result"
    }
   ],
   "source": [
    "# Count \n",
    "con.sql(\"SELECT DISTINCT category FROM sponsor_times\")"
   ]
  },
  {
   "cell_type": "code",
   "execution_count": 24,
   "metadata": {},
   "outputs": [
    {
     "data": {
      "text/plain": [
       "┌─────────────┬──────────────────────────┬──────────────────────────────────────────────────────────────────┬──────────────┐\n",
       "│   videoID   │        channelID         │                              title                               │  published   │\n",
       "│   varchar   │         varchar          │                             varchar                              │    double    │\n",
       "├─────────────┼──────────────────────────┼──────────────────────────────────────────────────────────────────┼──────────────┤\n",
       "│ QyTRvbb3gkk │ UCr7tNSNf7_aEEh5P-F5mE4A │ Kronii Got Friendzoned by Chat but She End Up Streamerzoned Them │ 1634428800.0 │\n",
       "│ qU1Yv58EXcc │ UCo_IB5145EVNcf8hw1Kku7w │ Game Theory: Minecraft's DARKEST Timeline! (Hermitcraft SMP)     │ 1634428800.0 │\n",
       "│ yKkVHBh9DQk │ UCXJkLU1wZVqZjjVe1MuRj-A │ TRIPLE RECORD EN GLOBILLOS? 🎈                                   │ 1633564800.0 │\n",
       "│ 7wCZSBOX7eM │ UCg83RGdRpwfvoFEuE2zWKZA │ Johnny vs. Nickelodeon All-Star Brawl (Sponsored)                │ 1633392000.0 │\n",
       "│ VVGjjaWWeRA │ UCKBYXp4Xn2I2tL1UL4fpbhw │ WOTB | NEW BIG HITTING JAGTIGER PREMIUM!                         │ 1634428800.0 │\n",
       "└─────────────┴──────────────────────────┴──────────────────────────────────────────────────────────────────┴──────────────┘"
      ]
     },
     "execution_count": 24,
     "metadata": {},
     "output_type": "execute_result"
    }
   ],
   "source": [
    "# What does the video_info table looks like\n",
    "con.sql(\"SELECT * FROM video_info LIMIT 5\")"
   ]
  },
  {
   "cell_type": "code",
   "execution_count": 25,
   "metadata": {},
   "outputs": [
    {
     "data": {
      "text/plain": [
       "┌───────────────────┐\n",
       "│ distinct_channels │\n",
       "│       int64       │\n",
       "├───────────────────┤\n",
       "│            969181 │\n",
       "└───────────────────┘"
      ]
     },
     "execution_count": 25,
     "metadata": {},
     "output_type": "execute_result"
    }
   ],
   "source": [
    "# How many distinct channels are there?\n",
    "con.sql(\"SELECT COUNT(distinct channelID) as distinct_channels FROM video_info LIMIT 5\")"
   ]
  },
  {
   "cell_type": "code",
   "execution_count": 26,
   "metadata": {},
   "outputs": [
    {
     "data": {
      "text/plain": [
       "┌──────────────────────────┬─────────────┐\n",
       "│        channelID         │ video_count │\n",
       "│         varchar          │    int64    │\n",
       "├──────────────────────────┼─────────────┤\n",
       "│ NULL                     │      701396 │\n",
       "│ UC_gUM8rL-Lrg6O3adPW9K1g │       96858 │\n",
       "│ UCx8Z14PpntdaxCt2hakbQLQ │       39425 │\n",
       "│ UCeY0bbntWzzVIaj2z3QigXg │       35656 │\n",
       "│ UCsT0YIqwnpJCM-mx7-gSA4Q │       25050 │\n",
       "└──────────────────────────┴─────────────┘"
      ]
     },
     "execution_count": 26,
     "metadata": {},
     "output_type": "execute_result"
    }
   ],
   "source": [
    "# Select the top 5 channel with the most amount of video ids\n",
    "con.sql(\"SELECT channelID, COUNT(videoID) as video_count FROM video_info GROUP BY channelID ORDER BY video_count DESC LIMIT 5\")"
   ]
  },
  {
   "cell_type": "code",
   "execution_count": 27,
   "metadata": {},
   "outputs": [
    {
     "name": "stdout",
     "output_type": "stream",
     "text": [
      "┌─────────────┬──────────────────────┐\n",
      "│ video_count │ distinct_video_count │\n",
      "│    int64    │        int64         │\n",
      "├─────────────┼──────────────────────┤\n",
      "│    16112634 │              7511579 │\n",
      "└─────────────┴──────────────────────┘\n",
      "\n"
     ]
    },
    {
     "data": {
      "text/plain": [
       "┌─────────────┬───────────────┐\n",
       "│   videoID   │ total_ad_time │\n",
       "│   varchar   │    double     │\n",
       "├─────────────┼───────────────┤\n",
       "│ Q6QR4979KIQ │ 29269449.0616 │\n",
       "│ mg7FweYjasE │    18057695.0 │\n",
       "│ 1oWx-V2L5ic │    16027781.0 │\n",
       "│ inkWP2Wazag │     7522424.5 │\n",
       "│ h4ZnVSRlg9g │   3596431.912 │\n",
       "└─────────────┴───────────────┘"
      ]
     },
     "execution_count": 27,
     "metadata": {},
     "output_type": "execute_result"
    }
   ],
   "source": [
    "# Video with the highest amount of ad time\n",
    "# First let's check if there are no duplicates in sponsor_times table\n",
    "con.sql(\"SELECT count(videoID) as video_count, count(distinct videoID) as distinct_video_count FROM sponsor_times\").show()\n",
    "\n",
    "# Okay, there are, problably because one video has multiple sponsor times, of course..\n",
    "# Now let's sum up the ad time for each video, grouping by videoID\n",
    "con.sql(\"SELECT videoID, SUM(endTime - startTime) as total_ad_time FROM sponsor_times GROUP BY videoID ORDER BY total_ad_time DESC LIMIT 5\")\n",
    "\n",
    "# Literally all of these were for livestreams that are not available anymore. Any way we can check if they are \"normal\" videos?\n",
    "# Apparently not. We would have to see based on the video duration and guess if it's a livestream or not."
   ]
  },
  {
   "cell_type": "code",
   "execution_count": 28,
   "metadata": {},
   "outputs": [
    {
     "name": "stdout",
     "output_type": "stream",
     "text": [
      "┌─────────────┬─────────────┐\n",
      "│   videoID   │ video_count │\n",
      "│   varchar   │    int64    │\n",
      "├─────────────┼─────────────┤\n",
      "│ \"           │        3506 │\n",
      "│ SYd5F4gIH90 │         886 │\n",
      "│ ESC2oMp_RVE │         863 │\n",
      "│ uyp7UvBPsjc │         838 │\n",
      "│ hM101bVkyoo │         838 │\n",
      "└─────────────┴─────────────┘\n",
      "\n",
      "┌─────────────┬─────────────┐\n",
      "│   videoID   │ video_count │\n",
      "│   varchar   │    int64    │\n",
      "├─────────────┼─────────────┤\n",
      "│ \"           │        3506 │\n",
      "│ mIB389tqzCI │         492 │\n",
      "│ Bn24gXSL4B0 │         463 │\n",
      "│ 0hMdQAjy43A │         381 │\n",
      "│ fKzVK1Di3Dw │         379 │\n",
      "└─────────────┴─────────────┘\n",
      "\n"
     ]
    }
   ],
   "source": [
    "# Let's get some videos that have duplicated sponsor_times entries, just to check them\n",
    "con.sql(\"SELECT videoID, COUNT(videoID) as video_count FROM sponsor_times GROUP BY videoID ORDER BY video_count DESC LIMIT 5\").show()\n",
    "\n",
    "# Hmm, so many entries. Ofc they are long videos but still. Maybe it means that this table has entries for other stuff?\n",
    "# Let's do the same but filtering for a video that has a shorter duration (10min)\n",
    "con.sql(\"SELECT videoID, COUNT(videoID) as video_count FROM sponsor_times WHERE videoDuration < 600 GROUP BY videoID ORDER BY video_count DESC LIMIT 5\").show()"
   ]
  },
  {
   "cell_type": "code",
   "execution_count": 29,
   "metadata": {},
   "outputs": [
    {
     "name": "stdout",
     "output_type": "stream",
     "text": [
      "┌─────────────┬───────────┬───────────┬───────┬────────┬────────────────┬──────────────────────────────────────────────────────────────────┬──────────────────────────────────────────────────────────────────┬─────────────────┬───────┬──────────┬────────────┬─────────┬───────────────┬────────┬────────────┬──────────────┬──────────────────────────────────────────────────────────────────┬───────────┬─────────────┐\n",
      "│   videoID   │ startTime │  endTime  │ votes │ locked │ incorrectVotes │                               UUID                               │                              userID                              │  timeSubmitted  │ views │ category │ actionType │ service │ videoDuration │ hidden │ reputation │ shadowHidden │                          hashedVideoID                           │ userAgent │ description │\n",
      "│   varchar   │  double   │  double   │ int32 │ int32  │     int32      │                             varchar                              │                             varchar                              │     double      │ int32 │ varchar  │  varchar   │ varchar │    double     │ int32  │   double   │    int32     │                             varchar                              │  varchar  │   varchar   │\n",
      "├─────────────┼───────────┼───────────┼───────┼────────┼────────────────┼──────────────────────────────────────────────────────────────────┼──────────────────────────────────────────────────────────────────┼─────────────────┼───────┼──────────┼────────────┼─────────┼───────────────┼────────┼────────────┼──────────────┼──────────────────────────────────────────────────────────────────┼───────────┼─────────────┤\n",
      "│ mIB389tqzCI │   47.0646 │ 59.140106 │    -2 │      0 │              1 │ 4d137dd02bae5098a1fe9143813d2f7bf774ac5aca8e0ef2bab2c4c08bd179f8 │ c4f1bd62d7808607557396b2cf9601b4b2bfb57b8ba0ac1815d5ccef4c70fe3b │ 1580068920188.0 │     6 │ sponsor  │ skip       │ YouTube │           0.0 │      0 │        0.0 │            0 │ a0a4d8f6792a715bc970e8020431627650780f5d90b821730b339475b904e2d8 │ \"\"        │ \"\"          │\n",
      "│ mIB389tqzCI │  43.41118 │ 60.257736 │    -2 │      0 │              1 │ 6c2d0e56e0d2392b617ce1da104ee059a696589fd648e96c67e4124a6d02231f │ f5aa24801811c0b83dafd3c538f56532b8da6699422925e80281e5cd6924a5cf │ 1580068941504.0 │     5 │ sponsor  │ skip       │ YouTube │           0.0 │      0 │        0.0 │            0 │ a0a4d8f6792a715bc970e8020431627650780f5d90b821730b339475b904e2d8 │ \"\"        │ \"\"          │\n",
      "│ mIB389tqzCI │ 853.12427 │  890.3752 │    -2 │      0 │              1 │ 525847f6211d8d89db33c341045207dbd26590d9dc29fc8a2ca3a1dcf504256f │ c4f1bd62d7808607557396b2cf9601b4b2bfb57b8ba0ac1815d5ccef4c70fe3b │ 1580068974348.0 │    10 │ sponsor  │ skip       │ YouTube │           0.0 │      0 │        0.0 │            0 │ a0a4d8f6792a715bc970e8020431627650780f5d90b821730b339475b904e2d8 │ \"\"        │ \"\"          │\n",
      "│ mIB389tqzCI │ 45.231014 │  59.28717 │    -2 │      0 │              1 │ 73389e81db81fa1dbb09ee715d2acc4367eb96b7c3c704153468cc0c7a9c685e │ d4aca3857dbbd44a9b66851f07d1ab7d214c468eb1557cfe47710ef73140c286 │ 1580069064591.0 │     8 │ sponsor  │ skip       │ YouTube │           0.0 │      0 │        0.0 │            0 │ a0a4d8f6792a715bc970e8020431627650780f5d90b821730b339475b904e2d8 │ \"\"        │ \"\"          │\n",
      "│ mIB389tqzCI │ 854.57776 │  889.7018 │    -2 │      0 │              1 │ b209034d716b491535bd98299ef66dbf90dd0698767bd57fe4e9081464ad1b4f │ d4aca3857dbbd44a9b66851f07d1ab7d214c468eb1557cfe47710ef73140c286 │ 1580069064710.0 │     7 │ sponsor  │ skip       │ YouTube │           0.0 │      0 │        0.0 │            0 │ a0a4d8f6792a715bc970e8020431627650780f5d90b821730b339475b904e2d8 │ \"\"        │ \"\"          │\n",
      "│ mIB389tqzCI │ 46.767235 │  66.23265 │    -2 │      0 │              1 │ 944ec8ab05ba9f8530ccfa204d405e8571f9811250e5067c8ed876dfe82f1791 │ 34b845b1381648d23e0987c2554a65170d08bc93d2d2286d365daa56d364d9ba │ 1580069098490.0 │     8 │ sponsor  │ skip       │ YouTube │           0.0 │      0 │        0.0 │            0 │ a0a4d8f6792a715bc970e8020431627650780f5d90b821730b339475b904e2d8 │ \"\"        │ \"\"          │\n",
      "│ mIB389tqzCI │ 43.687275 │  68.31767 │    -2 │      0 │              1 │ 11ee419425dd2dc29b530ccfd4fbcdf160f10ea276cbd57a8315170f6d2db9ab │ 6c2bd3042b6c1e8f138f63853b05e628e0f7868f824e08504dbc7c7f856ae24a │ 1580069127469.0 │     1 │ sponsor  │ skip       │ YouTube │           0.0 │      0 │        0.0 │            0 │ a0a4d8f6792a715bc970e8020431627650780f5d90b821730b339475b904e2d8 │ \"\"        │ \"\"          │\n",
      "│ mIB389tqzCI │ 43.554565 │  59.16068 │    -2 │      0 │              1 │ 637b00e92ff452ab479fa4b498a7578a2195928c78583ebc6900bf04209b5cca │ e50f5ee5237c14498eb92540fc0dd0cb91c7f2f0213c8ad00419994699463d11 │ 1580069139740.0 │     7 │ sponsor  │ skip       │ YouTube │           0.0 │      0 │        0.0 │            0 │ a0a4d8f6792a715bc970e8020431627650780f5d90b821730b339475b904e2d8 │ \"\"        │ \"\"          │\n",
      "│ mIB389tqzCI │  853.7181 │  890.8998 │    -2 │      0 │              1 │ 43be861e978dc70c696842682110229e68bdcf643645be1cf7277d9531eaf5a6 │ 6c2bd3042b6c1e8f138f63853b05e628e0f7868f824e08504dbc7c7f856ae24a │ 1580069166947.0 │     8 │ sponsor  │ skip       │ YouTube │           0.0 │      0 │        0.0 │            0 │ a0a4d8f6792a715bc970e8020431627650780f5d90b821730b339475b904e2d8 │ \"\"        │ \"\"          │\n",
      "│ mIB389tqzCI │ 46.500996 │ 59.419334 │    -2 │      0 │              1 │ 9181b8a4121cd6869e2c14a4ca6ae1bb814a078dfe871a043bcf7eca554c2a3d │ 9a59e8b0f3f73677766cef6c9e8c141b5621c81b1135287bd2600d1572b1ece7 │ 1580069170094.0 │    17 │ sponsor  │ skip       │ YouTube │           0.0 │      0 │        0.0 │            0 │ a0a4d8f6792a715bc970e8020431627650780f5d90b821730b339475b904e2d8 │ \"\"        │ \"\"          │\n",
      "├─────────────┴───────────┴───────────┴───────┴────────┴────────────────┴──────────────────────────────────────────────────────────────────┴──────────────────────────────────────────────────────────────────┴─────────────────┴───────┴──────────┴────────────┴─────────┴───────────────┴────────┴────────────┴──────────────┴──────────────────────────────────────────────────────────────────┴───────────┴─────────────┤\n",
      "│ 10 rows                                                                                                                                                                                                                                                                                                                                                                                                        20 columns │\n",
      "└───────────────────────────────────────────────────────────────────────────────────────────────────────────────────────────────────────────────────────────────────────────────────────────────────────────────────────────────────────────────────────────────────────────────────────────────────────────────────────────────────────────────────────────────────────────────────────────────────────────────────────────┘\n",
      "\n"
     ]
    }
   ],
   "source": [
    "# Okay, so maybe the entries are not only for a single ad space. It's for each person that voted?! The first video is a LTT video with only 15 minutes of duration.\n",
    "# Let's get 10 lines from this video just to see what they look like\n",
    "con.sql(\"SELECT * FROM sponsor_times WHERE videoID = 'mIB389tqzCI' LIMIT 10\").show()"
   ]
  },
  {
   "cell_type": "code",
   "execution_count": 30,
   "metadata": {},
   "outputs": [
    {
     "name": "stdout",
     "output_type": "stream",
     "text": [
      "┌─────────────┬───────────┬───────────┬───────┬────────┬────────────────┬──────────────────────────────────────────────────────────────────┬──────────────────────────────────────────────────────────────────┬─────────────────┬───────┬──────────┬────────────┬─────────┬───────────────┬────────┬────────────┬──────────────┬──────────────────────────────────────────────────────────────────┬───────────┬─────────────┐\n",
      "│   videoID   │ startTime │  endTime  │ votes │ locked │ incorrectVotes │                               UUID                               │                              userID                              │  timeSubmitted  │ views │ category │ actionType │ service │ videoDuration │ hidden │ reputation │ shadowHidden │                          hashedVideoID                           │ userAgent │ description │\n",
      "│   varchar   │  double   │  double   │ int32 │ int32  │     int32      │                             varchar                              │                             varchar                              │     double      │ int32 │ varchar  │  varchar   │ varchar │    double     │ int32  │   double   │    int32     │                             varchar                              │  varchar  │   varchar   │\n",
      "├─────────────┼───────────┼───────────┼───────┼────────┼────────────────┼──────────────────────────────────────────────────────────────────┼──────────────────────────────────────────────────────────────────┼─────────────────┼───────┼──────────┼────────────┼─────────┼───────────────┼────────┼────────────┼──────────────┼──────────────────────────────────────────────────────────────────┼───────────┼─────────────┤\n",
      "│ mIB389tqzCI │ 43.004574 │ 59.310028 │    14 │      1 │              1 │ 175f0458d8a7313efc68632825f357186d1b14e63cd34c1768c271f785d1d3a9 │ f285552fa2320f86b7125b089f9802859447afbed514c0e98e0dc15545eeb69a │ 1580070071098.0 │  2542 │ sponsor  │ skip       │ YouTube │         899.0 │      0 │        0.0 │            0 │ a0a4d8f6792a715bc970e8020431627650780f5d90b821730b339475b904e2d8 │ \"\"        │ \"\"          │\n",
      "└─────────────┴───────────┴───────────┴───────┴────────┴────────────────┴──────────────────────────────────────────────────────────────────┴──────────────────────────────────────────────────────────────────┴─────────────────┴───────┴──────────┴────────────┴─────────┴───────────────┴────────┴────────────┴──────────────┴──────────────────────────────────────────────────────────────────┴───────────┴─────────────┘\n",
      "\n",
      "┌─────────────┬───────────┬───────────┬───────┬────────┬────────────────┬──────────────────────────────────────────────────────────────────┬──────────────────────────────────────────────────────────────────┬─────────────────┬───────┬──────────┬────────────┬─────────┬───────────────┬────────┬────────────┬──────────────┬──────────────────────────────────────────────────────────────────┬───────────┬─────────────┐\n",
      "│   videoID   │ startTime │  endTime  │ votes │ locked │ incorrectVotes │                               UUID                               │                              userID                              │  timeSubmitted  │ views │ category │ actionType │ service │ videoDuration │ hidden │ reputation │ shadowHidden │                          hashedVideoID                           │ userAgent │ description │\n",
      "│   varchar   │  double   │  double   │ int32 │ int32  │     int32      │                             varchar                              │                             varchar                              │     double      │ int32 │ varchar  │  varchar   │ varchar │    double     │ int32  │   double   │    int32     │                             varchar                              │  varchar  │   varchar   │\n",
      "├─────────────┼───────────┼───────────┼───────┼────────┼────────────────┼──────────────────────────────────────────────────────────────────┼──────────────────────────────────────────────────────────────────┼─────────────────┼───────┼──────────┼────────────┼─────────┼───────────────┼────────┼────────────┼──────────────┼──────────────────────────────────────────────────────────────────┼───────────┼─────────────┤\n",
      "│ mIB389tqzCI │ 852.87714 │ 890.74414 │    13 │      0 │              1 │ 2aac51469ea4bab98d4b899dd1ab582df6e06dc61aa44e9f40e6c52e8cbc78a1 │ 95b0d7b32aa7d6138295d01b9760cf10f0f0e0ac32b83a360617b8ba8a523017 │ 1580076243690.0 │   364 │ sponsor  │ skip       │ YouTube │           0.0 │      0 │        0.0 │            0 │ a0a4d8f6792a715bc970e8020431627650780f5d90b821730b339475b904e2d8 │ \"\"        │ \"\"          │\n",
      "│ mIB389tqzCI │  852.8663 │  890.7745 │    13 │      0 │              1 │ 7a6cb94586cdcf1425e27f431fd13378488ec63e8e5231cfb0c186fef7197830 │ fd2d778b09e54b15b1f0cad2f3507d022ae78a86eec2f7ff8f83939dc66c804d │ 1580072516476.0 │   393 │ sponsor  │ skip       │ YouTube │           0.0 │      0 │        0.0 │            0 │ a0a4d8f6792a715bc970e8020431627650780f5d90b821730b339475b904e2d8 │ \"\"        │ \"\"          │\n",
      "│ mIB389tqzCI │  852.9209 │ 890.87933 │    12 │      0 │              1 │ 2fe389659727dd97c1f65ba2af50c69f5006629ad1e493204d35c7251b28bbe9 │ 8387f21cb89ec9b9b7898b8e65ad2607ff234f7397993a0762a3ee44ef083987 │ 1580071883895.0 │   120 │ sponsor  │ skip       │ YouTube │           0.0 │      0 │        0.0 │            0 │ a0a4d8f6792a715bc970e8020431627650780f5d90b821730b339475b904e2d8 │ \"\"        │ \"\"          │\n",
      "│ mIB389tqzCI │  852.4989 │  890.9381 │    11 │      0 │              1 │ 1f225eaaf67bdd92f0a9fcc6109634c88fc2685f5e6c3553381007a5c872cb15 │ b4cae0b2e37c2eddf2a205fcca09fc1288c8bd9be407e427a2f1494b0eaa0e2e │ 1580072262285.0 │    49 │ sponsor  │ skip       │ YouTube │           0.0 │      0 │        0.0 │            0 │ a0a4d8f6792a715bc970e8020431627650780f5d90b821730b339475b904e2d8 │ \"\"        │ \"\"          │\n",
      "│ mIB389tqzCI │  852.8825 │ 890.98645 │    11 │      0 │              1 │ 6cb1e0f4bdf0e08c56a3a43371e7d24d1ce1cdf602a1f214a8582464ac564f87 │ bd484b278b27f95f1bf57e17c13fb35f8b4c8a48e054867c746609c9fb53db18 │ 1580070056335.0 │    57 │ sponsor  │ skip       │ YouTube │           0.0 │      0 │        0.0 │            0 │ a0a4d8f6792a715bc970e8020431627650780f5d90b821730b339475b904e2d8 │ \"\"        │ \"\"          │\n",
      "│ mIB389tqzCI │  852.7323 │  890.8313 │    11 │      0 │              1 │ 6f28c6e2d7cbcc0984ab4b9ebccd6cfdf9456f275c41b8e4e9be75e898ef3de3 │ edcba1dbb8c3903a44afcfabd21570c8018b3b717b5f68b9d2f39d9d4582e892 │ 1580081364516.0 │    46 │ sponsor  │ skip       │ YouTube │           0.0 │      0 │        0.0 │            0 │ a0a4d8f6792a715bc970e8020431627650780f5d90b821730b339475b904e2d8 │ \"\"        │ \"\"          │\n",
      "│ mIB389tqzCI │ 852.61475 │  890.6173 │     9 │      0 │              1 │ 0b9ec064c932d1a1c2a3a61bd64355f098ebd7e58c7229314c0b82dd07b15e19 │ 365285f6cd1391f8e5457c3118515d778f272a9ea34aa9bad50bfb38df23cfcb │ 1580077643968.0 │    19 │ sponsor  │ skip       │ YouTube │           0.0 │      0 │        0.0 │            0 │ a0a4d8f6792a715bc970e8020431627650780f5d90b821730b339475b904e2d8 │ \"\"        │ \"\"          │\n",
      "│ mIB389tqzCI │ 852.18097 │ 890.62317 │     9 │      0 │              1 │ 43fb55d270c89b0a0ecd7c14ee361076ef944be2c0036395f1f6e18be3e943fe │ 55a22a09876d19728624101fb1c2554c09f3ca8030df8a1204537888d8f60b35 │ 1580081368542.0 │    23 │ sponsor  │ skip       │ YouTube │           0.0 │      0 │        0.0 │            0 │ a0a4d8f6792a715bc970e8020431627650780f5d90b821730b339475b904e2d8 │ \"\"        │ \"\"          │\n",
      "│ mIB389tqzCI │  852.8963 │  890.4218 │     9 │      0 │              1 │ 10642d5c5e6d2664a56d96ec9d0c41605dbdd6a1b3cb56f49f41ada8428b324c │ 5e72c70a12562223317e99e497f592cb963e15168496365f6509142a09d40d19 │ 1580070134610.0 │    17 │ sponsor  │ skip       │ YouTube │           0.0 │      0 │        0.0 │            0 │ a0a4d8f6792a715bc970e8020431627650780f5d90b821730b339475b904e2d8 │ \"\"        │ \"\"          │\n",
      "│ mIB389tqzCI │ 852.87177 │ 890.53467 │     9 │      0 │              1 │ ef8102a2e9d8a857787ea3d695e23665d4b6126ed34bb4267d5a86a1dd63464f │ ca4bd0c7355577e9710d934d88c3d2b87b77cff40e3bc30ab63f1f1af045377c │ 1580070812247.0 │    15 │ sponsor  │ skip       │ YouTube │           0.0 │      0 │        0.0 │            0 │ a0a4d8f6792a715bc970e8020431627650780f5d90b821730b339475b904e2d8 │ \"\"        │ \"\"          │\n",
      "│      ·      │     ·     │      ·    │     · │      · │              · │                                ·                                 │                                ·                                 │        ·        │     · │    ·     │  ·         │    ·    │            ·  │      · │         ·  │            · │                                ·                                 │ ·         │ ·           │\n",
      "│      ·      │     ·     │      ·    │     · │      · │              · │                                ·                                 │                                ·                                 │        ·        │     · │    ·     │  ·         │    ·    │            ·  │      · │         ·  │            · │                                ·                                 │ ·         │ ·           │\n",
      "│      ·      │     ·     │      ·    │     · │      · │              · │                                ·                                 │                                ·                                 │        ·        │     · │    ·     │  ·         │    ·    │            ·  │      · │         ·  │            · │                                ·                                 │ ·         │ ·           │\n",
      "│ mIB389tqzCI │ 853.39594 │  890.4169 │    -2 │      0 │              1 │ e16233dc43e48bc49179302d68005f3f2892c6dcb4208576ed121b69364590db │ 3e9e8700167deed1168868c75d07e5af5a72dfb7f850ca15afd5bcf5485d47ed │ 1580077076903.0 │     5 │ sponsor  │ skip       │ YouTube │           0.0 │      0 │        0.0 │            0 │ a0a4d8f6792a715bc970e8020431627650780f5d90b821730b339475b904e2d8 │ \"\"        │ \"\"          │\n",
      "│ mIB389tqzCI │  853.6352 │ 890.85205 │    -2 │      0 │              1 │ 7974f622a1dc49aa3072ece79e32be9e898a64b0a75e0db731e773d466665907 │ e3d4ce899d361eb920a5e07d768d218b9f9ecad7d6eea7bd2c97082b6434a2ce │ 1580077075549.0 │    21 │ sponsor  │ skip       │ YouTube │           0.0 │      0 │        0.0 │            0 │ a0a4d8f6792a715bc970e8020431627650780f5d90b821730b339475b904e2d8 │ \"\"        │ \"\"          │\n",
      "│ mIB389tqzCI │  611.1307 │  685.9517 │    -2 │      0 │              1 │ c862f9059120430939e8ee40e2672b04866bb75fdadf82796623a3cc2eaaf65a │ 446443e17dadb94b3fd4d6ba3709da2efafa6ae4450f639ba38cdd125d22b14b │ 1581353840145.0 │    22 │ sponsor  │ skip       │ YouTube │           0.0 │      0 │        0.0 │            0 │ a0a4d8f6792a715bc970e8020431627650780f5d90b821730b339475b904e2d8 │ \"\"        │ \"\"          │\n",
      "│ mIB389tqzCI │  853.7326 │ 891.20447 │    -2 │      0 │              1 │ 4e6883769dce13c3101007892038aab785bc9410f458a0572cf1c83a63acb5ff │ 8dd5e82d13614dcc6899b3181c7f7e3d92c47b4e913a8689e9be475959768ac2 │ 1580077028497.0 │     8 │ sponsor  │ skip       │ YouTube │           0.0 │      0 │        0.0 │            0 │ a0a4d8f6792a715bc970e8020431627650780f5d90b821730b339475b904e2d8 │ \"\"        │ \"\"          │\n",
      "│ mIB389tqzCI │  856.0635 │ 890.58594 │    -2 │      0 │              1 │ 79c675e8547cb2f9a78ad03f9b970d90e041a91725f4ce8292099f71b76ca730 │ cf8fcb0ea1ba14251dcfd4ff423c8e6b1647c3cc19d6e2dd28d72d8abfe29d13 │ 1580072477037.0 │     7 │ sponsor  │ skip       │ YouTube │           0.0 │      0 │        0.0 │            0 │ a0a4d8f6792a715bc970e8020431627650780f5d90b821730b339475b904e2d8 │ \"\"        │ \"\"          │\n",
      "│ mIB389tqzCI │  853.4354 │  890.7032 │    -2 │      0 │              1 │ 8f9bb8f47a8292e07032282e6f07507d95ade589e784db3523279eefe79b28ae │ 0170b353c90ef7133e3e37c25c1fc2457ceb7cd9d264da449cbdd1ee01bbf29f │ 1580070740359.0 │     5 │ sponsor  │ skip       │ YouTube │           0.0 │      0 │        0.0 │            0 │ a0a4d8f6792a715bc970e8020431627650780f5d90b821730b339475b904e2d8 │ \"\"        │ \"\"          │\n",
      "│ mIB389tqzCI │  854.2849 │  889.9555 │    -2 │      0 │              1 │ 8a6720570eb97110d63b62936a713a560f2148eddf3905af5c93f586f53d37a7 │ 83b66526c9c2da142ab2a6ae63752fae39b7cf891dd7fe963b3cede47703fd69 │ 1580070737432.0 │     7 │ sponsor  │ skip       │ YouTube │           0.0 │      0 │        0.0 │            0 │ a0a4d8f6792a715bc970e8020431627650780f5d90b821730b339475b904e2d8 │ \"\"        │ \"\"          │\n",
      "│ mIB389tqzCI │  856.3455 │  890.5114 │    -2 │      0 │              1 │ ae451652e3472fd12b1a823337dfa8185a4dbe6639ac9eba4c3c8565265296be │ 1842097d2f942e3fa0cfb77fd8e2bfdf4fd85c6acfca8089ace3fee692cf7e4d │ 1580069482587.0 │     7 │ sponsor  │ skip       │ YouTube │           0.0 │      0 │        0.0 │            0 │ a0a4d8f6792a715bc970e8020431627650780f5d90b821730b339475b904e2d8 │ \"\"        │ \"\"          │\n",
      "│ mIB389tqzCI │  853.7181 │  890.8998 │    -2 │      0 │              1 │ 43be861e978dc70c696842682110229e68bdcf643645be1cf7277d9531eaf5a6 │ 6c2bd3042b6c1e8f138f63853b05e628e0f7868f824e08504dbc7c7f856ae24a │ 1580069166947.0 │     8 │ sponsor  │ skip       │ YouTube │           0.0 │      0 │        0.0 │            0 │ a0a4d8f6792a715bc970e8020431627650780f5d90b821730b339475b904e2d8 │ \"\"        │ \"\"          │\n",
      "│ mIB389tqzCI │ 853.12427 │  890.3752 │    -2 │      0 │              1 │ 525847f6211d8d89db33c341045207dbd26590d9dc29fc8a2ca3a1dcf504256f │ c4f1bd62d7808607557396b2cf9601b4b2bfb57b8ba0ac1815d5ccef4c70fe3b │ 1580068974348.0 │    10 │ sponsor  │ skip       │ YouTube │           0.0 │      0 │        0.0 │            0 │ a0a4d8f6792a715bc970e8020431627650780f5d90b821730b339475b904e2d8 │ \"\"        │ \"\"          │\n",
      "├─────────────┴───────────┴───────────┴───────┴────────┴────────────────┴──────────────────────────────────────────────────────────────────┴──────────────────────────────────────────────────────────────────┴─────────────────┴───────┴──────────┴────────────┴─────────┴───────────────┴────────┴────────────┴──────────────┴──────────────────────────────────────────────────────────────────┴───────────┴─────────────┤\n",
      "│ 180 rows (20 shown)                                                                                                                                                                                                                                                                                                                                                                                            20 columns │\n",
      "└───────────────────────────────────────────────────────────────────────────────────────────────────────────────────────────────────────────────────────────────────────────────────────────────────────────────────────────────────────────────────────────────────────────────────────────────────────────────────────────────────────────────────────────────────────────────────────────────────────────────────────────┘\n",
      "\n"
     ]
    }
   ],
   "source": [
    "# Okay, there is a \"locked\" column. Probably means that it's the \"finalized\" times of the sponsors.\n",
    "# Let's focus on this same video and get only when it's locked\n",
    "con.sql(\"SELECT * FROM sponsor_times WHERE videoID = 'mIB389tqzCI' AND locked = 1\").show()\n",
    "\n",
    "# Okay, this is weird. This is an LTT video and it has a ad in the beginning and one in the end.\n",
    "# The one in the beginning is exactly as it shows here, but the outro ad,\n",
    "# which gets properly highlighted in my video player as a sponsor for Sponsorblock\n",
    "# is not present here as locked... Weird.\n",
    "con.sql(\"SELECT * FROM sponsor_times WHERE videoID = 'mIB389tqzCI' and endTime > 100 order by votes desc\").show()\n",
    "\n",
    "# There are a bunch of lines for ad segments that starts around the 14min mark, which is actually the second ad.\n",
    "# But there are no locked, unfortunately. So I will need to come up with some logic, probably, to find all the actual, correct,\n",
    "# ad segments of a video?!\n"
   ]
  },
  {
   "cell_type": "code",
   "execution_count": 31,
   "metadata": {},
   "outputs": [
    {
     "name": "stdout",
     "output_type": "stream",
     "text": [
      "┌─────────────┬──────────────┐\n",
      "│   videoID   │ locked_count │\n",
      "│   varchar   │    int64     │\n",
      "├─────────────┼──────────────┤\n",
      "│ oI5OyGlFHMc │          823 │\n",
      "│ YwOXuyYW4so │          301 │\n",
      "│ CBfGIR0NqCE │          284 │\n",
      "│ 9OeH8uKnya0 │          278 │\n",
      "│ KdZU1vhxkg8 │          250 │\n",
      "│ WFyiv9C2-Yk │          198 │\n",
      "│ E7MQb9Y4FAE │          182 │\n",
      "│ JucppA13Wxk │          156 │\n",
      "│ 2wunYAEkF7U │          146 │\n",
      "│ Hqwviv1MKGQ │          144 │\n",
      "│      ·      │            · │\n",
      "│      ·      │            · │\n",
      "│      ·      │            · │\n",
      "│ ym47K3qBeyQ │            5 │\n",
      "│ wWzg4wRtBkE │            5 │\n",
      "│ YiuixhSB7BU │            5 │\n",
      "│ 05K5glVCwis │            5 │\n",
      "│ kvQToWGBoNk │            5 │\n",
      "│ 2qGt129Vwjg │            5 │\n",
      "│ 4FaQiM-Mex8 │            5 │\n",
      "│ vauCU4b8c5E │            5 │\n",
      "│ gL9SG81EUyM │            5 │\n",
      "│ i2tt4qzHIQM │            5 │\n",
      "├─────────────┴──────────────┤\n",
      "│ ? rows           2 columns │\n",
      "└────────────────────────────┘\n",
      "\n"
     ]
    }
   ],
   "source": [
    "# Before doing that, let's dive a bit deeper.\n",
    "# Let's get here all videos that have more than ONE locked line.\n",
    "con.sql(\"SELECT videoID, COUNT(*) as locked_count FROM sponsor_times WHERE locked = 1 GROUP BY videoID HAVING COUNT(*) > 1 ORDER BY locked_count DESC\").show()"
   ]
  },
  {
   "cell_type": "code",
   "execution_count": 32,
   "metadata": {},
   "outputs": [
    {
     "name": "stdout",
     "output_type": "stream",
     "text": [
      "┌─────────────┬───────────┬───────────┬───────┬────────┬────────────────┬──────────────────────────────────────────────────────────────────┬──────────────────────────────────────────────────────────────────┬─────────────────┬───────┬───────────┬────────────┬─────────┬───────────────┬────────┬────────────┬──────────────┬──────────────────────────────────────────────────────────────────┬───────────┬─────────────┐\n",
      "│   videoID   │ startTime │  endTime  │ votes │ locked │ incorrectVotes │                               UUID                               │                              userID                              │  timeSubmitted  │ views │ category  │ actionType │ service │ videoDuration │ hidden │ reputation │ shadowHidden │                          hashedVideoID                           │ userAgent │ description │\n",
      "│   varchar   │  double   │  double   │ int32 │ int32  │     int32      │                             varchar                              │                             varchar                              │     double      │ int32 │  varchar  │  varchar   │ varchar │    double     │ int32  │   double   │    int32     │                             varchar                              │  varchar  │   varchar   │\n",
      "├─────────────┼───────────┼───────────┼───────┼────────┼────────────────┼──────────────────────────────────────────────────────────────────┼──────────────────────────────────────────────────────────────────┼─────────────────┼───────┼───────────┼────────────┼─────────┼───────────────┼────────┼────────────┼──────────────┼──────────────────────────────────────────────────────────────────┼───────────┼─────────────┤\n",
      "│ RTTiQeXXrhI │  609.5981 │  653.6326 │  1314 │      1 │              1 │ b7ce4770c31c6828ba98caf15b31bcc505ba98b7da32ea447116db75e97b4ed1 │ 5b8556695dc391cebec7060c49e996ba380ffb8b9d8df6096939ae1e2dae9424 │ 1589828367896.0 │  3560 │ sponsor   │ skip       │ YouTube │           0.0 │      0 │        0.0 │            0 │ 4d586208429834a88da61c07ae657dc30dc4a46c03d3f09ee7c9e26c4a145cdd │ \"\"        │ \"\"          │\n",
      "│ RTTiQeXXrhI │     55.02 │  64.26634 │     1 │      1 │              1 │ a42bde90c43504da2c21819e7a456bc79b619c1773ca2cc1ccbd531ff41cb792 │ 5b8556695dc391cebec7060c49e996ba380ffb8b9d8df6096939ae1e2dae9424 │ 1590014980221.0 │  1387 │ intro     │ skip       │ YouTube │           0.0 │      0 │        0.0 │            0 │ 4d586208429834a88da61c07ae657dc30dc4a46c03d3f09ee7c9e26c4a145cdd │ \"\"        │ \"\"          │\n",
      "│ RTTiQeXXrhI │ 441.04044 │ 443.72668 │     5 │      1 │              1 │ 29d034ec8b0282cca9d87588ad51d60afae92d78b82bd6a6b93c73cab902ab92 │ 5b8556695dc391cebec7060c49e996ba380ffb8b9d8df6096939ae1e2dae9424 │ 1590015477588.0 │   707 │ selfpromo │ skip       │ YouTube │           0.0 │      0 │        0.0 │            0 │ 4d586208429834a88da61c07ae657dc30dc4a46c03d3f09ee7c9e26c4a145cdd │ \"\"        │ \"\"          │\n",
      "│ RTTiQeXXrhI │ 39.857365 │  55.04488 │   392 │      1 │              1 │ 9e583fc40b4b0364feed96added107a5dd0be6eb27da930a9cdb1cc57e7eafba │ 5b8556695dc391cebec7060c49e996ba380ffb8b9d8df6096939ae1e2dae9424 │ 1590027937053.0 │  3697 │ sponsor   │ skip       │ YouTube │           0.0 │      0 │        0.0 │            0 │ 4d586208429834a88da61c07ae657dc30dc4a46c03d3f09ee7c9e26c4a145cdd │ \"\"        │ \"\"          │\n",
      "└─────────────┴───────────┴───────────┴───────┴────────┴────────────────┴──────────────────────────────────────────────────────────────────┴──────────────────────────────────────────────────────────────────┴─────────────────┴───────┴───────────┴────────────┴─────────┴───────────────┴────────┴────────────┴──────────────┴──────────────────────────────────────────────────────────────────┴───────────┴─────────────┘\n",
      "\n"
     ]
    }
   ],
   "source": [
    "# Wtf, there are videos with many locked counts. \n",
    "# I picked up here a random one, that happened to also be from LTT, that has 4 locked lines\n",
    "# ID: RTTiQeXXrhI\n",
    "# Let's focus on those locked lines:\n",
    "con.sql(\"SELECT * FROM sponsor_times WHERE videoID = 'RTTiQeXXrhI' AND locked = 1\").show()\n",
    "\n",
    "# Oh wow, so one of them (55s to 64s) is actually the video INTRO. And we can even see in the 'category'. Crazy."
   ]
  },
  {
   "cell_type": "code",
   "execution_count": 33,
   "metadata": {},
   "outputs": [
    {
     "name": "stdout",
     "output_type": "stream",
     "text": [
      "┌──────────────────┬───────┐\n",
      "│     category     │ count │\n",
      "│     varchar      │ int64 │\n",
      "├──────────────────┼───────┤\n",
      "│ outro            │ 84518 │\n",
      "│ intro            │ 84453 │\n",
      "│ sponsor          │ 67508 │\n",
      "│ selfpromo        │ 52234 │\n",
      "│ interaction      │ 45523 │\n",
      "│ filler           │ 38319 │\n",
      "│ poi_highlight    │ 21235 │\n",
      "│ chapter          │ 18986 │\n",
      "│ music_offtopic   │ 15097 │\n",
      "│ preview          │ 12956 │\n",
      "│ exclusive_access │  1342 │\n",
      "├──────────────────┴───────┤\n",
      "│ 11 rows        2 columns │\n",
      "└──────────────────────────┘\n",
      "\n"
     ]
    }
   ],
   "source": [
    "# Let's quickly print all categories around, and hmm, also the time they appear on locked lines.\n",
    "con.sql(\"SELECT category, count(*) as count FROM sponsor_times WHERE locked = 1 GROUP BY category ORDER BY count(*) DESC\").show()\n",
    "\n",
    "# Okay, this is crazy, I had no clue about the outro/intro counting, as I don't have them enabled on my SponsorBlock extension.\n",
    "# So from now on, I will only care about \"sponsor\" and \"selfpromo\"."
   ]
  },
  {
   "cell_type": "code",
   "execution_count": 34,
   "metadata": {},
   "outputs": [
    {
     "name": "stdout",
     "output_type": "stream",
     "text": [
      "┌─────────────┬──────────────┐\n",
      "│   videoID   │ locked_count │\n",
      "│   varchar   │    int64     │\n",
      "├─────────────┼──────────────┤\n",
      "│ HPPsMyy1HBc │            1 │\n",
      "│ jP6rPqhrIJg │            1 │\n",
      "│ NqswxL3RJuM │            1 │\n",
      "│ nc0fJ36y6Ws │            1 │\n",
      "│ N1kx_0DxPQo │            2 │\n",
      "│ 77An0t_LRyc │            1 │\n",
      "│ eVzKYLE2YgA │            1 │\n",
      "│ t9rjBffVet0 │            2 │\n",
      "│ jhHnShlmIiE │            1 │\n",
      "│ MWRG9WAk9gU │            1 │\n",
      "│      ·      │            · │\n",
      "│      ·      │            · │\n",
      "│      ·      │            · │\n",
      "│ mBLdUFrdMaE │            2 │\n",
      "│ hk-PTWIbYq8 │            1 │\n",
      "│ dN6NXB5s1UU │            1 │\n",
      "│ Gm0HaA5Mk5o │            2 │\n",
      "│ zIjLT-hQ56A │            1 │\n",
      "│ fn2Zk7xgUoA │            1 │\n",
      "│ 7rtPjZVHxqo │            1 │\n",
      "│ 2WKWcBeAkHc │            1 │\n",
      "│ yegRHiaao7U │            1 │\n",
      "│ P1x0oMGWDkw │            4 │\n",
      "├─────────────┴──────────────┤\n",
      "│ ? rows           2 columns │\n",
      "└────────────────────────────┘\n",
      "\n"
     ]
    }
   ],
   "source": [
    "# Okay, go again. Let's find videos with many locked, but only sponsor or self promo.\n",
    "# We are hoping that we don't have to come up with a logic to find the actual ad segments,\n",
    "# and that we can simply look for locked=1 and category in (\"sponsor\", \"selfpromo\").\n",
    "# Let's do that:\n",
    "con.sql(\"SELECT videoID, COUNT(*) as locked_count FROM sponsor_times WHERE locked = 1 AND category IN ('sponsor', 'selfpromo') GROUP BY videoID\").show()\n",
    "\n",
    "# Hmm, of course I picked another random LTT video here. Ngy9TIbREJE\n",
    "# This one shows three ads, which is correct.\n",
    "\n",
    "# Okay, so like, beforehand we had found a video that I knew that there were more than one ad, but it only showed up as one in this table.\n",
    "# So now I need to do it flipped. I will open random videos on YouTube and look for them here and see if they match."
   ]
  },
  {
   "cell_type": "code",
   "execution_count": 35,
   "metadata": {},
   "outputs": [
    {
     "name": "stdout",
     "output_type": "stream",
     "text": [
      "┌─────────┬───────────┬─────────┬───────┬────────┬────────────────┬─────────┬─────────┬───────────────┬───────┬──────────┬────────────┬─────────┬───────────────┬────────┬────────────┬──────────────┬───────────────┬───────────┬─────────────┐\n",
      "│ videoID │ startTime │ endTime │ votes │ locked │ incorrectVotes │  UUID   │ userID  │ timeSubmitted │ views │ category │ actionType │ service │ videoDuration │ hidden │ reputation │ shadowHidden │ hashedVideoID │ userAgent │ description │\n",
      "│ varchar │  double   │ double  │ int32 │ int32  │     int32      │ varchar │ varchar │    double     │ int32 │ varchar  │  varchar   │ varchar │    double     │ int32  │   double   │    int32     │    varchar    │  varchar  │   varchar   │\n",
      "├─────────┴───────────┴─────────┴───────┴────────┴────────────────┴─────────┴─────────┴───────────────┴───────┴──────────┴────────────┴─────────┴───────────────┴────────┴────────────┴──────────────┴───────────────┴───────────┴─────────────┤\n",
      "│                                                                                                                    0 rows                                                                                                                    │\n",
      "└──────────────────────────────────────────────────────────────────────────────────────────────────────────────────────────────────────────────────────────────────────────────────────────────────────────────────────────────────────────────┘\n",
      "\n",
      "┌─────────────┬───────────┬──────────┬───────┬────────┬────────────────┬───────────────────────────────────────────────────────────────────┬──────────────────────────────────────────────────────────────────┬─────────────────┬───────┬──────────┬────────────┬─────────┬───────────────┬────────┬────────────┬──────────────┬──────────────────────────────────────────────────────────────────┬──────────────────────────────────────────┬─────────────┐\n",
      "│   videoID   │ startTime │ endTime  │ votes │ locked │ incorrectVotes │                               UUID                                │                              userID                              │  timeSubmitted  │ views │ category │ actionType │ service │ videoDuration │ hidden │ reputation │ shadowHidden │                          hashedVideoID                           │                userAgent                 │ description │\n",
      "│   varchar   │  double   │  double  │ int32 │ int32  │     int32      │                              varchar                              │                             varchar                              │     double      │ int32 │ varchar  │  varchar   │ varchar │    double     │ int32  │   double   │    int32     │                             varchar                              │                 varchar                  │   varchar   │\n",
      "├─────────────┼───────────┼──────────┼───────┼────────┼────────────────┼───────────────────────────────────────────────────────────────────┼──────────────────────────────────────────────────────────────────┼─────────────────┼───────┼──────────┼────────────┼─────────┼───────────────┼────────┼────────────┼──────────────┼──────────────────────────────────────────────────────────────────┼──────────────────────────────────────────┼─────────────┤\n",
      "│ 6wgHq9NZru0 │    959.53 │ 1010.753 │     8 │      1 │              1 │ cba58e44836f42b467ffc8b5929d1ad0377b3d405f40791b3127f35072c2ce497 │ 0d23b88746e133f2836597380ebf507a9c7dea42eea34eb13cfdc29c65a298fd │ 1739300639031.0 │ 57978 │ sponsor  │ skip       │ YouTube │      1017.544 │      0 │        0.0 │            0 │ 383e7429ec447c68b619ed1ea3b1e6e1586933d851f6dbc4cf669ffc7e0d69a5 │ \"\"                                       │ \"\"          │\n",
      "│ 6wgHq9NZru0 │     30.59 │    52.94 │    13 │      1 │              1 │ 7faf113daf686efc0f5382d960aba1f3762e6f7d2869673e3200f20de0a41b8f7 │ 88d6294af55b97ccf47dc47c793b2b9eaf75ca5ccc934c73615a77fb3b9bdec2 │ 1739300905812.0 │ 83376 │ sponsor  │ skip       │ YouTube │      1017.441 │      0 │       27.0 │            0 │ 383e7429ec447c68b619ed1ea3b1e6e1586933d851f6dbc4cf669ffc7e0d69a5 │ mnjggcdmjocbbbhaepdhchncahnbgone/v5.11.5 │ \"\"          │\n",
      "└─────────────┴───────────┴──────────┴───────┴────────┴────────────────┴───────────────────────────────────────────────────────────────────┴──────────────────────────────────────────────────────────────────┴─────────────────┴───────┴──────────┴────────────┴─────────┴───────────────┴────────┴────────────┴──────────────┴──────────────────────────────────────────────────────────────────┴──────────────────────────────────────────┴─────────────┘\n",
      "\n",
      "┌─────────┬───────────┬─────────┬───────┬────────┬────────────────┬─────────┬─────────┬───────────────┬───────┬──────────┬────────────┬─────────┬───────────────┬────────┬────────────┬──────────────┬───────────────┬───────────┬─────────────┐\n",
      "│ videoID │ startTime │ endTime │ votes │ locked │ incorrectVotes │  UUID   │ userID  │ timeSubmitted │ views │ category │ actionType │ service │ videoDuration │ hidden │ reputation │ shadowHidden │ hashedVideoID │ userAgent │ description │\n",
      "│ varchar │  double   │ double  │ int32 │ int32  │     int32      │ varchar │ varchar │    double     │ int32 │ varchar  │  varchar   │ varchar │    double     │ int32  │   double   │    int32     │    varchar    │  varchar  │   varchar   │\n",
      "├─────────┴───────────┴─────────┴───────┴────────┴────────────────┴─────────┴─────────┴───────────────┴───────┴──────────┴────────────┴─────────┴───────────────┴────────┴────────────┴──────────────┴───────────────┴───────────┴─────────────┤\n",
      "│                                                                                                                    0 rows                                                                                                                    │\n",
      "└──────────────────────────────────────────────────────────────────────────────────────────────────────────────────────────────────────────────────────────────────────────────────────────────────────────────────────────────────────────────┘\n",
      "\n",
      "┌─────────────┬───────────┬─────────┬───────┬────────┬────────────────┬───────────────────────────────────────────────────────────────────┬──────────────────────────────────────────────────────────────────┬─────────────────┬───────┬──────────┬────────────┬─────────┬───────────────┬────────┬────────────┬──────────────┬──────────────────────────────────────────────────────────────────┬─────────────────────────────────┬─────────────┐\n",
      "│   videoID   │ startTime │ endTime │ votes │ locked │ incorrectVotes │                               UUID                                │                              userID                              │  timeSubmitted  │ views │ category │ actionType │ service │ videoDuration │ hidden │ reputation │ shadowHidden │                          hashedVideoID                           │            userAgent            │ description │\n",
      "│   varchar   │  double   │ double  │ int32 │ int32  │     int32      │                              varchar                              │                             varchar                              │     double      │ int32 │ varchar  │  varchar   │ varchar │    double     │ int32  │   double   │    int32     │                             varchar                              │             varchar             │   varchar   │\n",
      "├─────────────┼───────────┼─────────┼───────┼────────┼────────────────┼───────────────────────────────────────────────────────────────────┼──────────────────────────────────────────────────────────────────┼─────────────────┼───────┼──────────┼────────────┼─────────┼───────────────┼────────┼────────────┼──────────────┼──────────────────────────────────────────────────────────────────┼─────────────────────────────────┼─────────────┤\n",
      "│ nC_dmiM3mMA │    21.952 │   25.16 │     2 │      1 │              1 │ 67194e9f2aa3652d74a32948ee1d133afb248a75fa7e31943ca0536b0ffc61b87 │ 6bf14387297df3152584ae95d6682cdc98cfee30c1e8a6a4ad876babdfee555b │ 1739034182803.0 │  3734 │ intro    │ skip       │ YouTube │      1087.681 │      0 │       27.0 │            0 │ a482d8c8a3ec7e45abc8a4eb9390ec5c7cd72ef5dce7f8c63264b3ca22841075 │ sponsorBlocker@ajay.app/v5.11.5 │ \"\"          │\n",
      "│ nC_dmiM3mMA │    13.246 │  22.053 │     3 │      1 │              1 │ 41332b5a8a97d2457d78784446deac1d2912f3e8fad501ac039429d0cfb869b07 │ 6bf14387297df3152584ae95d6682cdc98cfee30c1e8a6a4ad876babdfee555b │ 1739034288859.0 │  2341 │ preview  │ skip       │ YouTube │      1087.681 │      0 │       27.0 │            0 │ a482d8c8a3ec7e45abc8a4eb9390ec5c7cd72ef5dce7f8c63264b3ca22841075 │ sponsorBlocker@ajay.app/v5.11.5 │ \"\"          │\n",
      "└─────────────┴───────────┴─────────┴───────┴────────┴────────────────┴───────────────────────────────────────────────────────────────────┴──────────────────────────────────────────────────────────────────┴─────────────────┴───────┴──────────┴────────────┴─────────┴───────────────┴────────┴────────────┴──────────────┴──────────────────────────────────────────────────────────────────┴─────────────────────────────────┴─────────────┘\n",
      "\n",
      "┌─────────┬───────────┬─────────┬───────┬────────┬────────────────┬─────────┬─────────┬───────────────┬───────┬──────────┬────────────┬─────────┬───────────────┬────────┬────────────┬──────────────┬───────────────┬───────────┬─────────────┐\n",
      "│ videoID │ startTime │ endTime │ votes │ locked │ incorrectVotes │  UUID   │ userID  │ timeSubmitted │ views │ category │ actionType │ service │ videoDuration │ hidden │ reputation │ shadowHidden │ hashedVideoID │ userAgent │ description │\n",
      "│ varchar │  double   │ double  │ int32 │ int32  │     int32      │ varchar │ varchar │    double     │ int32 │ varchar  │  varchar   │ varchar │    double     │ int32  │   double   │    int32     │    varchar    │  varchar  │   varchar   │\n",
      "├─────────┴───────────┴─────────┴───────┴────────┴────────────────┴─────────┴─────────┴───────────────┴───────┴──────────┴────────────┴─────────┴───────────────┴────────┴────────────┴──────────────┴───────────────┴───────────┴─────────────┤\n",
      "│                                                                                                                    0 rows                                                                                                                    │\n",
      "└──────────────────────────────────────────────────────────────────────────────────────────────────────────────────────────────────────────────────────────────────────────────────────────────────────────────────────────────────────────────┘\n",
      "\n"
     ]
    }
   ],
   "source": [
    "# Okay, here are 5 videos that I found here, from some different timeframes\n",
    "# ZH2uEhLxNT4 --> 2 ads, one in the beginning and one in the end\n",
    "# 6wgHq9NZru0 --> Same as above\n",
    "# L8hTUcchAno --> One in the middle\n",
    "# nC_dmiM3mMA --> One kinda in the beginning\n",
    "# CxfFKuSfQ8c --> One in the end.\n",
    "\n",
    "# 1st video:\n",
    "con.sql(\"SELECT * FROM sponsor_times WHERE videoID = 'ZH2uEhLxNT4' AND locked = 1\").show()\n",
    "\n",
    "# 2nd video:\n",
    "con.sql(\"SELECT * FROM sponsor_times WHERE videoID = '6wgHq9NZru0' AND locked = 1\").show()\n",
    "\n",
    "# 3rd video:\n",
    "con.sql(\"SELECT * FROM sponsor_times WHERE videoID = 'L8hTUcchAno' AND locked = 1\").show()\n",
    "\n",
    "# 4th video:\n",
    "con.sql(\"SELECT * FROM sponsor_times WHERE videoID = 'nC_dmiM3mMA' AND locked = 1\").show()\n",
    "\n",
    "# 5th video:\n",
    "con.sql(\"SELECT * FROM sponsor_times WHERE videoID = 'CxfFKuSfQ8c' AND locked = 1\").show()\n",
    "\n",
    "\n",
    "# Hmm, some of them shows no locked lines. "
   ]
  },
  {
   "cell_type": "code",
   "execution_count": 36,
   "metadata": {},
   "outputs": [
    {
     "name": "stdout",
     "output_type": "stream",
     "text": [
      "┌─────────────┬───────────┬──────────┬───────┬────────┬────────────────┬───────────────────────────────────────────────────────────────────┬──────────────────────────────────────────────────────────────────┬─────────────────┬───────┬──────────┬────────────┬─────────┬───────────────┬────────┬────────────┬──────────────┬──────────────────────────────────────────────────────────────────┬─────────────────────────────────────────┬─────────────┐\n",
      "│   videoID   │ startTime │ endTime  │ votes │ locked │ incorrectVotes │                               UUID                                │                              userID                              │  timeSubmitted  │ views │ category │ actionType │ service │ videoDuration │ hidden │ reputation │ shadowHidden │                          hashedVideoID                           │                userAgent                │ description │\n",
      "│   varchar   │  double   │  double  │ int32 │ int32  │     int32      │                              varchar                              │                             varchar                              │     double      │ int32 │ varchar  │  varchar   │ varchar │    double     │ int32  │   double   │    int32     │                             varchar                              │                 varchar                 │   varchar   │\n",
      "├─────────────┼───────────┼──────────┼───────┼────────┼────────────────┼───────────────────────────────────────────────────────────────────┼──────────────────────────────────────────────────────────────────┼─────────────────┼───────┼──────────┼────────────┼─────────┼───────────────┼────────┼────────────┼──────────────┼──────────────────────────────────────────────────────────────────┼─────────────────────────────────────────┼─────────────┤\n",
      "│ ZH2uEhLxNT4 │  491.0867 │ 564.7343 │    23 │      0 │              1 │ f199cdb451cde5a332a18b8bfa43613d6a197a737bb9725d8e8fc3a39ad95910  │ 1cea02f06e4e0d5cfc1ff9db6af28f538ffce2163ab970cb401e4b2e51d88504 │ 1580706798275.0 │  1014 │ sponsor  │ skip       │ YouTube │           0.0 │      0 │        0.0 │            0 │ 73b5727b521b997cc78e797b42ab21d05250edd84b7a9c7d012f6f82b99258fb │ \"\"                                      │ \"\"          │\n",
      "│ ZH2uEhLxNT4 │       0.0 │ 5.034687 │    55 │      0 │              1 │ 294b50d9f1926d9d497720d75e3a2af7a69ef78753b094ff5f5e23fcfd4420ee  │ 9d2b1507716fe86fc2d1bedee534260ee4e8437c347c044524bd63dd6801c6c6 │ 1581012164397.0 │  4745 │ sponsor  │ skip       │ YouTube │           0.0 │      0 │        0.0 │            0 │ 73b5727b521b997cc78e797b42ab21d05250edd84b7a9c7d012f6f82b99258fb │ \"\"                                      │ \"\"          │\n",
      "│ ZH2uEhLxNT4 │       0.0 │    5.097 │     0 │      0 │              1 │ 5d187b1ff659c11676ceb41e29113f0d6c9b5474fa42981605111b4746f200145 │ 8c175bdd41054fb446fd2cdbd5aca84d5286a657c749d7a2f59a9d96bc8751b8 │ 1639112514046.0 │     0 │ sponsor  │ skip       │ YouTube │       571.061 │      0 │        0.0 │            0 │ 73b5727b521b997cc78e797b42ab21d05250edd84b7a9c7d012f6f82b99258fb │ mnjggcdmjocbbbhaepdhchncahnbgone/v3.6.2 │ \"\"          │\n",
      "│ ZH2uEhLxNT4 │   503.047 │  560.731 │     0 │      0 │              1 │ 5e2b940f1779683baf84b0672d8a1572b583e4739911b48d1aaa7031df2f4247b │ 8c175bdd41054fb446fd2cdbd5aca84d5286a657c749d7a2f59a9d96bc8751b8 │ 1639113058330.0 │     0 │ sponsor  │ skip       │ YouTube │       571.061 │      0 │        0.0 │            0 │ 73b5727b521b997cc78e797b42ab21d05250edd84b7a9c7d012f6f82b99258fb │ mnjggcdmjocbbbhaepdhchncahnbgone/v3.6.2 │ \"\"          │\n",
      "└─────────────┴───────────┴──────────┴───────┴────────┴────────────────┴───────────────────────────────────────────────────────────────────┴──────────────────────────────────────────────────────────────────┴─────────────────┴───────┴──────────┴────────────┴─────────┴───────────────┴────────┴────────────┴──────────────┴──────────────────────────────────────────────────────────────────┴─────────────────────────────────────────┴─────────────┘\n",
      "\n",
      "┌─────────────┬───────────┬──────────┬───────┬────────┬────────────────┬───────────────────────────────────────────────────────────────────┬──────────────────────────────────────────────────────────────────┬─────────────────┬───────┬──────────┬────────────┬─────────┬───────────────┬────────┬────────────┬──────────────┬──────────────────────────────────────────────────────────────────┬───────────┬─────────────┐\n",
      "│   videoID   │ startTime │ endTime  │ votes │ locked │ incorrectVotes │                               UUID                                │                              userID                              │  timeSubmitted  │ views │ category │ actionType │ service │ videoDuration │ hidden │ reputation │ shadowHidden │                          hashedVideoID                           │ userAgent │ description │\n",
      "│   varchar   │  double   │  double  │ int32 │ int32  │     int32      │                              varchar                              │                             varchar                              │     double      │ int32 │ varchar  │  varchar   │ varchar │    double     │ int32  │   double   │    int32     │                             varchar                              │  varchar  │   varchar   │\n",
      "├─────────────┼───────────┼──────────┼───────┼────────┼────────────────┼───────────────────────────────────────────────────────────────────┼──────────────────────────────────────────────────────────────────┼─────────────────┼───────┼──────────┼────────────┼─────────┼───────────────┼────────┼────────────┼──────────────┼──────────────────────────────────────────────────────────────────┼───────────┼─────────────┤\n",
      "│ CxfFKuSfQ8c │  1174.286 │ 1287.453 │     1 │      0 │              1 │ 60679a5631f2e2f7f5e3838c7c0b84a312e7143ce87302ce70d26c44a39661637 │ 0d23b88746e133f2836597380ebf507a9c7dea42eea34eb13cfdc29c65a298fd │ 1738950634683.0 │ 19865 │ sponsor  │ skip       │ YouTube │      1287.453 │      0 │        0.0 │            0 │ 03b8b0386d46ca82c4b303c0c0039e235ec34f67ec3b1646518fdeca1a3b774e │ \"\"        │ \"\"          │\n",
      "└─────────────┴───────────┴──────────┴───────┴────────┴────────────────┴───────────────────────────────────────────────────────────────────┴──────────────────────────────────────────────────────────────────┴─────────────────┴───────┴──────────┴────────────┴─────────┴───────────────┴────────┴────────────┴──────────────┴──────────────────────────────────────────────────────────────────┴───────────┴─────────────┘\n",
      "\n"
     ]
    }
   ],
   "source": [
    "# Just to make sure my dataset is correct, let's get the 1st and the last video and see if they are correct.\n",
    "# 1st video:\n",
    "con.sql(\"SELECT * FROM sponsor_times WHERE videoID = 'ZH2uEhLxNT4'\").show()\n",
    "\n",
    "# Last video:\n",
    "con.sql(\"SELECT * FROM sponsor_times WHERE videoID = 'CxfFKuSfQ8c'\").show()\n",
    "\n",
    "# Yup, these are correct, but, yeah, no locked. Which means we will need to come up with some logic to find the actual ad segments.\n",
    "\n"
   ]
  },
  {
   "cell_type": "markdown",
   "metadata": {},
   "source": [
    "# Building a logic to nail down the ad segments."
   ]
  },
  {
   "cell_type": "code",
   "execution_count": 37,
   "metadata": {},
   "outputs": [
    {
     "name": "stdout",
     "output_type": "stream",
     "text": [
      "┌─────────────┬───────────┬──────────┬───────┬────────┬────────────────┬───────────────────────────────────────────────────────────────────┬──────────────────────────────────────────────────────────────────┬─────────────────┬───────┬──────────┬────────────┬─────────┬───────────────┬────────┬────────────┬──────────────┬──────────────────────────────────────────────────────────────────┬──────────────────────────────────────────┬─────────────┐\n",
      "│   videoID   │ startTime │ endTime  │ votes │ locked │ incorrectVotes │                               UUID                                │                              userID                              │  timeSubmitted  │ views │ category │ actionType │ service │ videoDuration │ hidden │ reputation │ shadowHidden │                          hashedVideoID                           │                userAgent                 │ description │\n",
      "│   varchar   │  double   │  double  │ int32 │ int32  │     int32      │                              varchar                              │                             varchar                              │     double      │ int32 │ varchar  │  varchar   │ varchar │    double     │ int32  │   double   │    int32     │                             varchar                              │                 varchar                  │   varchar   │\n",
      "├─────────────┼───────────┼──────────┼───────┼────────┼────────────────┼───────────────────────────────────────────────────────────────────┼──────────────────────────────────────────────────────────────────┼─────────────────┼───────┼──────────┼────────────┼─────────┼───────────────┼────────┼────────────┼──────────────┼──────────────────────────────────────────────────────────────────┼──────────────────────────────────────────┼─────────────┤\n",
      "│ 6wgHq9NZru0 │    30.521 │     52.9 │     0 │      0 │              1 │ 18e3b29d2cc9a8951911cab4295508b9015ca35db96736cc0a7edf0c5051689c7 │ 0d23b88746e133f2836597380ebf507a9c7dea42eea34eb13cfdc29c65a298fd │ 1739300581769.0 │  1674 │ sponsor  │ skip       │ YouTube │      1017.544 │      0 │        0.0 │            0 │ 383e7429ec447c68b619ed1ea3b1e6e1586933d851f6dbc4cf669ffc7e0d69a5 │ \"\"                                       │ \"\"          │\n",
      "│ 6wgHq9NZru0 │     30.59 │    52.94 │    13 │      1 │              1 │ 7faf113daf686efc0f5382d960aba1f3762e6f7d2869673e3200f20de0a41b8f7 │ 88d6294af55b97ccf47dc47c793b2b9eaf75ca5ccc934c73615a77fb3b9bdec2 │ 1739300905812.0 │ 83376 │ sponsor  │ skip       │ YouTube │      1017.441 │      0 │       27.0 │            0 │ 383e7429ec447c68b619ed1ea3b1e6e1586933d851f6dbc4cf669ffc7e0d69a5 │ mnjggcdmjocbbbhaepdhchncahnbgone/v5.11.5 │ \"\"          │\n",
      "│ 6wgHq9NZru0 │    36.872 │   52.929 │    -2 │      0 │              1 │ fc9617093c4c256b4675412c3e3955a07ce7f21a40b112993fcf56ea68fcab557 │ 760541b67a7f6c7d0dbebd5448c4b215832e2aa538be13a4800b50e597ffea69 │ 1739300715373.0 │   445 │ sponsor  │ skip       │ YouTube │      1017.441 │      0 │        0.0 │            0 │ 383e7429ec447c68b619ed1ea3b1e6e1586933d851f6dbc4cf669ffc7e0d69a5 │ sponsorBlocker@ajay.app/v5.11.5          │ \"\"          │\n",
      "│ 6wgHq9NZru0 │    959.53 │ 1010.753 │     8 │      1 │              1 │ cba58e44836f42b467ffc8b5929d1ad0377b3d405f40791b3127f35072c2ce497 │ 0d23b88746e133f2836597380ebf507a9c7dea42eea34eb13cfdc29c65a298fd │ 1739300639031.0 │ 57978 │ sponsor  │ skip       │ YouTube │      1017.544 │      0 │        0.0 │            0 │ 383e7429ec447c68b619ed1ea3b1e6e1586933d851f6dbc4cf669ffc7e0d69a5 │ \"\"                                       │ \"\"          │\n",
      "│ 6wgHq9NZru0 │    1010.6 │ 1017.544 │     3 │      0 │              1 │ 7aba616594017b54b277865ad8023fd5609c0e4509cdef64aee9f8cec2f066567 │ 0d23b88746e133f2836597380ebf507a9c7dea42eea34eb13cfdc29c65a298fd │ 1739300654961.0 │  7897 │ outro    │ skip       │ YouTube │      1017.544 │      0 │        0.0 │            0 │ 383e7429ec447c68b619ed1ea3b1e6e1586933d851f6dbc4cf669ffc7e0d69a5 │ \"\"                                       │ \"\"          │\n",
      "└─────────────┴───────────┴──────────┴───────┴────────┴────────────────┴───────────────────────────────────────────────────────────────────┴──────────────────────────────────────────────────────────────────┴─────────────────┴───────┴──────────┴────────────┴─────────┴───────────────┴────────┴────────────┴──────────────┴──────────────────────────────────────────────────────────────────┴──────────────────────────────────────────┴─────────────┘\n",
      "\n"
     ]
    }
   ],
   "source": [
    "# Let's focus on this video: 6wgHq9NZru0\n",
    "con.sql(\"SELECT * FROM sponsor_times WHERE videoID = '6wgHq9NZru0' ORDER BY startTime asc\").show()"
   ]
  },
  {
   "cell_type": "code",
   "execution_count": null,
   "metadata": {},
   "outputs": [
    {
     "name": "stdout",
     "output_type": "stream",
     "text": [
      "┌───────────┬──────────┬───────┬────────┬────────────┬──────────┬─────────────┐\n",
      "│ startTime │ endTime  │ votes │ locked │ prev_start │ prev_end │ new_segment │\n",
      "│  double   │  double  │ int32 │ int32  │   double   │  double  │   boolean   │\n",
      "├───────────┼──────────┼───────┼────────┼────────────┼──────────┼─────────────┤\n",
      "│    30.521 │     52.9 │     0 │      0 │       NULL │     NULL │ false       │\n",
      "│     30.59 │    52.94 │    13 │      1 │     30.521 │     52.9 │ false       │\n",
      "│    36.872 │   52.929 │    -2 │      0 │      30.59 │    52.94 │ false       │\n",
      "│    959.53 │ 1010.753 │     8 │      1 │     36.872 │   52.929 │ true        │\n",
      "└───────────┴──────────┴───────┴────────┴────────────┴──────────┴─────────────┘\n",
      "\n",
      "┌───────────┬──────────┬───────┬────────┬────────────┬──────────┬─────────────┬────────────┐\n",
      "│ startTime │ endTime  │ votes │ locked │ prev_start │ prev_end │ new_segment │ ad_segment │\n",
      "│  double   │  double  │ int32 │ int32  │   double   │  double  │   boolean   │   int128   │\n",
      "├───────────┼──────────┼───────┼────────┼────────────┼──────────┼─────────────┼────────────┤\n",
      "│    30.521 │     52.9 │     0 │      0 │       NULL │     NULL │ false       │          1 │\n",
      "│     30.59 │    52.94 │    13 │      1 │     30.521 │     52.9 │ false       │          1 │\n",
      "│    36.872 │   52.929 │    -2 │      0 │      30.59 │    52.94 │ false       │          1 │\n",
      "│    959.53 │ 1010.753 │     8 │      1 │     36.872 │   52.929 │ true        │          2 │\n",
      "└───────────┴──────────┴───────┴────────┴────────────┴──────────┴─────────────┴────────────┘\n",
      "\n",
      "┌───────────┬──────────┬───────┬────────┬────────────┬──────────┬─────────────┬────────────┐\n",
      "│ startTime │ endTime  │ votes │ locked │ prev_start │ prev_end │ new_segment │ ad_segment │\n",
      "│  double   │  double  │ int32 │ int32  │   double   │  double  │   boolean   │   int128   │\n",
      "├───────────┼──────────┼───────┼────────┼────────────┼──────────┼─────────────┼────────────┤\n",
      "│     30.59 │    52.94 │    13 │      1 │     30.521 │     52.9 │ false       │          1 │\n",
      "│    959.53 │ 1010.753 │     8 │      1 │     36.872 │   52.929 │ true        │          2 │\n",
      "└───────────┴──────────┴───────┴────────┴────────────┴──────────┴─────────────┴────────────┘\n",
      "\n"
     ]
    }
   ],
   "source": [
    "# To find if these rows are probably the same ad segment, we will do the following:\n",
    "# 1. Order them by the start time\n",
    "# 2. Compare one row with the previous.\n",
    "# 3. If the start of the current row is greater than the end of the previous row, we will consider it a new ad segment.\n",
    "# 4. We coalesce to False just to deal with the first row, as it will never be a new segment.\n",
    "# 5. Then we create a new col, where we sum up the new_segment column, and add 1 to it. This will give us the ad segment number.\n",
    "test_overlaps = con.sql(\"\"\"\n",
    "SELECT startTime, endTime, votes, locked,\n",
    "       LAG(startTime) OVER (PARTITION BY videoID ORDER BY startTime) AS prev_start,\n",
    "       LAG(endTime) OVER (PARTITION BY videoID ORDER BY startTime) AS prev_end,\n",
    "       COALESCE(startTime > LAG(endTime) OVER (PARTITION BY videoID ORDER BY startTime), false) AS new_segment\n",
    "FROM sponsor_times\n",
    "WHERE videoID = '6wgHq9NZru0'\n",
    "    AND category IN ('sponsor', 'selfpromo')\n",
    "ORDER BY startTime\n",
    "\"\"\")\n",
    "\n",
    "test_overlaps.show()\n",
    "\n",
    "# Now create an \"ad_segment\" column that will start at 1 and then increment every time overlaps is false\n",
    "test_ad_segments = con.sql(\"\"\"\n",
    "SELECT\n",
    "    *,\n",
    "    SUM(new_segment) OVER (ORDER BY startTime) + 1 AS ad_segment\n",
    "FROM test_overlaps\n",
    "\"\"\")\n",
    "\n",
    "test_ad_segments.show()\n",
    "\n",
    "# Now we for each segment we can order them by locked and votes, making sure to either get the one locked, or the one with the most votes.\n",
    "con.sql(\"\"\"\n",
    "SELECT DISTINCT ON (ad_segment)\n",
    "        *\n",
    "FROM test_ad_segments\n",
    "ORDER BY ad_segment, locked DESC, votes DESC\n",
    "\"\"\").show()\n"
   ]
  },
  {
   "cell_type": "code",
   "execution_count": 39,
   "metadata": {},
   "outputs": [
    {
     "name": "stdout",
     "output_type": "stream",
     "text": [
      "┌────────────┬────────────────┬─────────────┬───────────┬──────────┬───────┬────────┬────────────────┬───────────────────────────────────────────────────────────────────┬──────────────────────────────────────────────────────────────────┬─────────────────┬───────┬──────────┬────────────┬─────────┬───────────────┬────────┬────────────┬──────────────┬──────────────────────────────────────────────────────────────────┬──────────────────────────────────────────┬─────────────┐\n",
      "│ ad_segment │ new_ad_segment │   videoID   │ startTime │ endTime  │ votes │ locked │ incorrectVotes │                               UUID                                │                              userID                              │  timeSubmitted  │ views │ category │ actionType │ service │ videoDuration │ hidden │ reputation │ shadowHidden │                          hashedVideoID                           │                userAgent                 │ description │\n",
      "│   int128   │    boolean     │   varchar   │  double   │  double  │ int32 │ int32  │     int32      │                              varchar                              │                             varchar                              │     double      │ int32 │ varchar  │  varchar   │ varchar │    double     │ int32  │   double   │    int32     │                             varchar                              │                 varchar                  │   varchar   │\n",
      "├────────────┼────────────────┼─────────────┼───────────┼──────────┼───────┼────────┼────────────────┼───────────────────────────────────────────────────────────────────┼──────────────────────────────────────────────────────────────────┼─────────────────┼───────┼──────────┼────────────┼─────────┼───────────────┼────────┼────────────┼──────────────┼──────────────────────────────────────────────────────────────────┼──────────────────────────────────────────┼─────────────┤\n",
      "│          1 │ false          │ 6wgHq9NZru0 │    30.521 │     52.9 │     0 │      0 │              1 │ 18e3b29d2cc9a8951911cab4295508b9015ca35db96736cc0a7edf0c5051689c7 │ 0d23b88746e133f2836597380ebf507a9c7dea42eea34eb13cfdc29c65a298fd │ 1739300581769.0 │  1674 │ sponsor  │ skip       │ YouTube │      1017.544 │      0 │        0.0 │            0 │ 383e7429ec447c68b619ed1ea3b1e6e1586933d851f6dbc4cf669ffc7e0d69a5 │ \"\"                                       │ \"\"          │\n",
      "│          1 │ false          │ 6wgHq9NZru0 │     30.59 │    52.94 │    13 │      1 │              1 │ 7faf113daf686efc0f5382d960aba1f3762e6f7d2869673e3200f20de0a41b8f7 │ 88d6294af55b97ccf47dc47c793b2b9eaf75ca5ccc934c73615a77fb3b9bdec2 │ 1739300905812.0 │ 83376 │ sponsor  │ skip       │ YouTube │      1017.441 │      0 │       27.0 │            0 │ 383e7429ec447c68b619ed1ea3b1e6e1586933d851f6dbc4cf669ffc7e0d69a5 │ mnjggcdmjocbbbhaepdhchncahnbgone/v5.11.5 │ \"\"          │\n",
      "│          1 │ false          │ 6wgHq9NZru0 │    36.872 │   52.929 │    -2 │      0 │              1 │ fc9617093c4c256b4675412c3e3955a07ce7f21a40b112993fcf56ea68fcab557 │ 760541b67a7f6c7d0dbebd5448c4b215832e2aa538be13a4800b50e597ffea69 │ 1739300715373.0 │   445 │ sponsor  │ skip       │ YouTube │      1017.441 │      0 │        0.0 │            0 │ 383e7429ec447c68b619ed1ea3b1e6e1586933d851f6dbc4cf669ffc7e0d69a5 │ sponsorBlocker@ajay.app/v5.11.5          │ \"\"          │\n",
      "│          2 │ true           │ 6wgHq9NZru0 │    959.53 │ 1010.753 │     8 │      1 │              1 │ cba58e44836f42b467ffc8b5929d1ad0377b3d405f40791b3127f35072c2ce497 │ 0d23b88746e133f2836597380ebf507a9c7dea42eea34eb13cfdc29c65a298fd │ 1739300639031.0 │ 57978 │ sponsor  │ skip       │ YouTube │      1017.544 │      0 │        0.0 │            0 │ 383e7429ec447c68b619ed1ea3b1e6e1586933d851f6dbc4cf669ffc7e0d69a5 │ \"\"                                       │ \"\"          │\n",
      "└────────────┴────────────────┴─────────────┴───────────┴──────────┴───────┴────────┴────────────────┴───────────────────────────────────────────────────────────────────┴──────────────────────────────────────────────────────────────────┴─────────────────┴───────┴──────────┴────────────┴─────────┴───────────────┴────────┴────────────┴──────────────┴──────────────────────────────────────────────────────────────────┴──────────────────────────────────────────┴─────────────┘\n",
      "\n",
      "┌────────────┬────────────────┬─────────────┬───────────┬──────────┬───────┬────────┬────────────────┬───────────────────────────────────────────────────────────────────┬──────────────────────────────────────────────────────────────────┬─────────────────┬───────┬──────────┬────────────┬─────────┬───────────────┬────────┬────────────┬──────────────┬──────────────────────────────────────────────────────────────────┬──────────────────────────────────────────┬─────────────┐\n",
      "│ ad_segment │ new_ad_segment │   videoID   │ startTime │ endTime  │ votes │ locked │ incorrectVotes │                               UUID                                │                              userID                              │  timeSubmitted  │ views │ category │ actionType │ service │ videoDuration │ hidden │ reputation │ shadowHidden │                          hashedVideoID                           │                userAgent                 │ description │\n",
      "│   int128   │    boolean     │   varchar   │  double   │  double  │ int32 │ int32  │     int32      │                              varchar                              │                             varchar                              │     double      │ int32 │ varchar  │  varchar   │ varchar │    double     │ int32  │   double   │    int32     │                             varchar                              │                 varchar                  │   varchar   │\n",
      "├────────────┼────────────────┼─────────────┼───────────┼──────────┼───────┼────────┼────────────────┼───────────────────────────────────────────────────────────────────┼──────────────────────────────────────────────────────────────────┼─────────────────┼───────┼──────────┼────────────┼─────────┼───────────────┼────────┼────────────┼──────────────┼──────────────────────────────────────────────────────────────────┼──────────────────────────────────────────┼─────────────┤\n",
      "│          1 │ false          │ 6wgHq9NZru0 │     30.59 │    52.94 │    13 │      1 │              1 │ 7faf113daf686efc0f5382d960aba1f3762e6f7d2869673e3200f20de0a41b8f7 │ 88d6294af55b97ccf47dc47c793b2b9eaf75ca5ccc934c73615a77fb3b9bdec2 │ 1739300905812.0 │ 83376 │ sponsor  │ skip       │ YouTube │      1017.441 │      0 │       27.0 │            0 │ 383e7429ec447c68b619ed1ea3b1e6e1586933d851f6dbc4cf669ffc7e0d69a5 │ mnjggcdmjocbbbhaepdhchncahnbgone/v5.11.5 │ \"\"          │\n",
      "│          2 │ true           │ 6wgHq9NZru0 │    959.53 │ 1010.753 │     8 │      1 │              1 │ cba58e44836f42b467ffc8b5929d1ad0377b3d405f40791b3127f35072c2ce497 │ 0d23b88746e133f2836597380ebf507a9c7dea42eea34eb13cfdc29c65a298fd │ 1739300639031.0 │ 57978 │ sponsor  │ skip       │ YouTube │      1017.544 │      0 │        0.0 │            0 │ 383e7429ec447c68b619ed1ea3b1e6e1586933d851f6dbc4cf669ffc7e0d69a5 │ \"\"                                       │ \"\"          │\n",
      "└────────────┴────────────────┴─────────────┴───────────┴──────────┴───────┴────────┴────────────────┴───────────────────────────────────────────────────────────────────┴──────────────────────────────────────────────────────────────────┴─────────────────┴───────┴──────────┴────────────┴─────────┴───────────────┴────────┴────────────┴──────────────┴──────────────────────────────────────────────────────────────────┴──────────────────────────────────────────┴─────────────┘\n",
      "\n"
     ]
    }
   ],
   "source": [
    "# Okay, now we're only missing applying this to the overall dataset, which will change the query around a bit.\n",
    "\n",
    "new_segments = con.sql(\"\"\"\n",
    "SELECT\n",
    "    COALESCE(startTime > LAG(endTime) OVER (PARTITION BY videoID ORDER BY startTime), false) AS new_ad_segment,\n",
    "    *\n",
    "FROM sponsor_times\n",
    "WHERE category IN ('sponsor', 'selfpromo')\n",
    "\"\"\")\n",
    "\n",
    "ad_segments = con.sql(\"\"\"\n",
    "SELECT\n",
    "    SUM(new_ad_segment) OVER (PARTITION BY videoID ORDER BY startTime) + 1 AS ad_segment,\n",
    "    *\n",
    "FROM new_segments\n",
    "\"\"\")\n",
    "\n",
    "# Now before we just get the \"correct\" ad segments, let's try for the same video we did above\n",
    "con.sql(\"select * from ad_segments where videoID = '6wgHq9NZru0'\").show()\n",
    "\n",
    "# Looks good! Now let's just do the final query to get the best row for each ad segmenta and each video\n",
    "unique_ad_segments = con.sql(\"\"\"\n",
    "SELECT DISTINCT ON (videoID, ad_segment)\n",
    "    *\n",
    "FROM ad_segments\n",
    "ORDER BY videoID, ad_segment, locked DESC, votes DESC\n",
    "\"\"\")\n",
    "\n",
    "# Lets, again, try for the same video\n",
    "con.sql(\"select * from unique_ad_segments where videoID = '6wgHq9NZru0'\").show()\n"
   ]
  },
  {
   "cell_type": "code",
   "execution_count": 40,
   "metadata": {},
   "outputs": [],
   "source": [
    "# Looks good enough to me! I think we're ready to start actually analyzing this data."
   ]
  }
 ],
 "metadata": {
  "kernelspec": {
   "display_name": "venv",
   "language": "python",
   "name": "python3"
  },
  "language_info": {
   "codemirror_mode": {
    "name": "ipython",
    "version": 3
   },
   "file_extension": ".py",
   "mimetype": "text/x-python",
   "name": "python",
   "nbconvert_exporter": "python",
   "pygments_lexer": "ipython3",
   "version": "3.13.2"
  }
 },
 "nbformat": 4,
 "nbformat_minor": 2
}
